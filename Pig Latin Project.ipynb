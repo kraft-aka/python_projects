{
 "cells": [
  {
   "cell_type": "code",
   "execution_count": 2,
   "metadata": {},
   "outputs": [],
   "source": [
    "#Pig Latin - Pig Latin is a game of alterations played on the \n",
    "#English language game. To create the Pig Latin form of an English \n",
    "#word the initial consonant sound is transposed to the end of the \n",
    "#word and an ay is affixed (Ex.: \"banana\" would yield anana-bay)."
   ]
  },
  {
   "cell_type": "code",
   "execution_count": 143,
   "metadata": {},
   "outputs": [],
   "source": [
    "def pig_latin(s):\n",
    "    \n",
    "    vowel = ['a','e', 'i', 'o', 'u', 'y']\n",
    "    \n",
    "    \n",
    "    if s[0] not in vowel:\n",
    "        sub1 = s[1:]\n",
    "        sub2 = sub1 + s[:1] + 'y'\n",
    "        print(sub2)\n",
    "               \n",
    "    else:\n",
    "        new_str = s + '-yay'\n",
    "        print(new_str)\n"
   ]
  },
  {
   "cell_type": "code",
   "execution_count": 144,
   "metadata": {},
   "outputs": [
    {
     "name": "stdout",
     "output_type": "stream",
     "text": [
      "apple-yay\n"
     ]
    }
   ],
   "source": [
    "pig_latin('apple')"
   ]
  },
  {
   "cell_type": "code",
   "execution_count": 145,
   "metadata": {},
   "outputs": [
    {
     "name": "stdout",
     "output_type": "stream",
     "text": [
      "ellohy\n"
     ]
    }
   ],
   "source": [
    "pig_latin('hello')"
   ]
  },
  {
   "cell_type": "code",
   "execution_count": 146,
   "metadata": {},
   "outputs": [
    {
     "name": "stdout",
     "output_type": "stream",
     "text": [
      "harachtercy\n"
     ]
    }
   ],
   "source": [
    "pig_latin('charachter')"
   ]
  },
  {
   "cell_type": "code",
   "execution_count": 147,
   "metadata": {},
   "outputs": [
    {
     "name": "stdout",
     "output_type": "stream",
     "text": [
      "appyhy\n"
     ]
    }
   ],
   "source": [
    "pig_latin('happy')"
   ]
  },
  {
   "cell_type": "code",
   "execution_count": null,
   "metadata": {},
   "outputs": [],
   "source": []
  },
  {
   "cell_type": "code",
   "execution_count": null,
   "metadata": {},
   "outputs": [],
   "source": []
  }
 ],
 "metadata": {
  "kernelspec": {
   "display_name": "Python 3",
   "language": "python",
   "name": "python3"
  },
  "language_info": {
   "codemirror_mode": {
    "name": "ipython",
    "version": 3
   },
   "file_extension": ".py",
   "mimetype": "text/x-python",
   "name": "python",
   "nbconvert_exporter": "python",
   "pygments_lexer": "ipython3",
   "version": "3.7.3"
  }
 },
 "nbformat": 4,
 "nbformat_minor": 2
}
