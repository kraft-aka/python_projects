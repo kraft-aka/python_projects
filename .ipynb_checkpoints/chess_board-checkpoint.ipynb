{
 "cells": [
  {
   "cell_type": "code",
   "execution_count": null,
   "metadata": {},
   "outputs": [],
   "source": []
  },
  {
   "cell_type": "code",
   "execution_count": 19,
   "metadata": {},
   "outputs": [
    {
     "name": "stdout",
     "output_type": "stream",
     "text": [
      "f\n",
      "2\n",
      "Rook moved Vertically!\n"
     ]
    }
   ],
   "source": [
    "board = {\n",
    "    'a':1, 'a':2, 'a':3, 'a':4, 'a':5, 'a':6, 'a':7, 'a':8,\n",
    "'b':1,'b':2,'b':3,'b':4,'b':5,'b':6,'b':7,'b':8,\n",
    "'c':1,'c':2,'c':3,'c':4,'c':5,'c':6,'c':7,'c':8,\n",
    "'d':1,'d':2,'d':3,'d':4,'d':5,'d':6,'d':7,'d':8,\n",
    "'e':1,'e':2,'e':3,'e':4,'e':5,'e':6,'e':7,'e':8,\n",
    "'d':1,'d':2,'d':3,'d':4,'d':5,'d':6,'d':7,'d':8,\n",
    "'f':1,'f':2,'f':3,'f':4,'f':5,'f':6,'f':7,'f':8,\n",
    "'g':1,'g':2,'g':3,'g':4,'g':5,'g':6,'g':7,'g':8,\n",
    "'h':1,'h':2,'h':3,'h':4,'h':5,'h':6,'h':7,'h':8}\n",
    "\n",
    "figures = ['King', 'Queen', 'Rook','Bishop','Knight', 'Pawn']\n",
    "letters = ['a','b','c','d','e','f','g','h']\n",
    "\n",
    "cell1 = {'a':1}\n",
    "new_cell = {}\n",
    "current_position = input()\n",
    "current_index = int(input())\n",
    "\n",
    "new_cell[current_position] = current_index\n",
    "\n",
    "if new_cell[current_position]>1 and new_cell[current_position]<=8:\n",
    "    print('Rook moved Vertically!')\n",
    "    \n",
    "elif new_cell.get(current_position,current_index):\n",
    "    print('Rook moved Horizontally!')\n",
    "    \n",
    "else:\n",
    "    print('Rook can not move so!')\n",
    "\n",
    "\n",
    "\n",
    "\n"
   ]
  },
  {
   "cell_type": "code",
   "execution_count": 20,
   "metadata": {},
   "outputs": [
    {
     "name": "stdout",
     "output_type": "stream",
     "text": [
      "{'a': 8, 'b': 8, 'c': 8, 'd': 8, 'e': 8, 'f': 8, 'g': 8, 'h': 8}\n"
     ]
    }
   ],
   "source": [
    "print(board)"
   ]
  },
  {
   "cell_type": "code",
   "execution_count": 21,
   "metadata": {},
   "outputs": [
    {
     "name": "stdout",
     "output_type": "stream",
     "text": [
      "a 8\n",
      "b 8\n",
      "c 8\n",
      "d 8\n",
      "e 8\n",
      "f 8\n",
      "g 8\n",
      "h 8\n"
     ]
    }
   ],
   "source": [
    "for k,v in board.items():\n",
    "    print(k,v)"
   ]
  },
  {
   "cell_type": "code",
   "execution_count": 22,
   "metadata": {},
   "outputs": [
    {
     "data": {
      "text/plain": [
       "8"
      ]
     },
     "execution_count": 22,
     "metadata": {},
     "output_type": "execute_result"
    }
   ],
   "source": [
    "len(board)"
   ]
  },
  {
   "cell_type": "code",
   "execution_count": 35,
   "metadata": {},
   "outputs": [],
   "source": [
    "def rook_moves(r,c):\n",
    "    row = ['a','b','c','d','e','f','g','h']\n",
    "    col = [1,2,3,4,5,6,7,8]\n",
    "\n",
    "    # Rook placed in a cell a1\n",
    "\n",
    "    #board=[[' ' for i in range(8)] for i in range(8)]\n",
    "\n",
    "    #new_row = input()\n",
    "    #new_col = int(input())\n",
    "    #current_row = ['a']\n",
    "\n",
    "    if r in row and c == col[0]:\n",
    "        current_row = new_row\n",
    "        print('Rook horizontally!')\n",
    "\n",
    "    elif r == row[0] and c in col:\n",
    "        print('Rook moved vertically!')\n",
    "\n",
    "    else:\n",
    "        print('Impossible  move!')\n",
    "\n",
    "\n"
   ]
  },
  {
   "cell_type": "code",
   "execution_count": 41,
   "metadata": {},
   "outputs": [
    {
     "name": "stdout",
     "output_type": "stream",
     "text": [
      "Rook moved vertically!\n"
     ]
    }
   ],
   "source": [
    "rook_moves('a',8)"
   ]
  },
  {
   "cell_type": "code",
   "execution_count": null,
   "metadata": {},
   "outputs": [],
   "source": []
  }
 ],
 "metadata": {
  "kernelspec": {
   "display_name": "Python 3",
   "language": "python",
   "name": "python3"
  },
  "language_info": {
   "codemirror_mode": {
    "name": "ipython",
    "version": 3
   },
   "file_extension": ".py",
   "mimetype": "text/x-python",
   "name": "python",
   "nbconvert_exporter": "python",
   "pygments_lexer": "ipython3",
   "version": "3.7.3"
  }
 },
 "nbformat": 4,
 "nbformat_minor": 2
}
