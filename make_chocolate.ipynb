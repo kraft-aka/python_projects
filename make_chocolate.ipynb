{
 "cells": [
  {
   "cell_type": "code",
   "execution_count": 2,
   "metadata": {},
   "outputs": [],
   "source": [
    "#We want make a package of goal kilos of chocolate. \n",
    "#We have small bars (1 kilo each) and big bars (5 kilos each).\n",
    "#Return the number of small bars to use, assuming we always use \n",
    "#big bars before small bars. Return -1 if it can't be done.\n",
    "\n",
    "\n",
    "#make_chocolate(4, 1, 9) → 4\n",
    "#make_chocolate(4, 1, 10) → -1\n",
    "#make_chocolate(4, 1, 7) → 2"
   ]
  },
  {
   "cell_type": "code",
   "execution_count": 51,
   "metadata": {},
   "outputs": [],
   "source": [
    "def make_chocolate(small, big, goal):\n",
    "    \n",
    "    if goal > small + big*5:\n",
    "        return -1\n",
    "    \n",
    "    elif goal%5 <= small and big*5<= goal:\n",
    "        return goal - big*5\n",
    "  \n",
    "    elif goal%5 <= small and big*5>goal:\n",
    "        return goal - abs(goal/5)*5\n",
    "    \n",
    "    else: \n",
    "        return -1\n",
    "    \n",
    "    "
   ]
  },
  {
   "cell_type": "code",
   "execution_count": 52,
   "metadata": {},
   "outputs": [
    {
     "data": {
      "text/plain": [
       "4"
      ]
     },
     "execution_count": 52,
     "metadata": {},
     "output_type": "execute_result"
    }
   ],
   "source": [
    "make_chocolate(4, 1, 9)"
   ]
  },
  {
   "cell_type": "code",
   "execution_count": 53,
   "metadata": {},
   "outputs": [
    {
     "data": {
      "text/plain": [
       "-1"
      ]
     },
     "execution_count": 53,
     "metadata": {},
     "output_type": "execute_result"
    }
   ],
   "source": [
    "make_chocolate(4, 1, 10) "
   ]
  },
  {
   "cell_type": "code",
   "execution_count": 54,
   "metadata": {},
   "outputs": [
    {
     "data": {
      "text/plain": [
       "2"
      ]
     },
     "execution_count": 54,
     "metadata": {},
     "output_type": "execute_result"
    }
   ],
   "source": [
    "make_chocolate(4, 1, 7)"
   ]
  }
 ],
 "metadata": {
  "kernelspec": {
   "display_name": "Python 3",
   "language": "python",
   "name": "python3"
  },
  "language_info": {
   "codemirror_mode": {
    "name": "ipython",
    "version": 3
   },
   "file_extension": ".py",
   "mimetype": "text/x-python",
   "name": "python",
   "nbconvert_exporter": "python",
   "pygments_lexer": "ipython3",
   "version": "3.7.3"
  }
 },
 "nbformat": 4,
 "nbformat_minor": 2
}
